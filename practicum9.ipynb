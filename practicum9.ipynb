{
 "cells": [
  {
   "cell_type": "code",
   "execution_count": null,
   "id": "2fbb85aa",
   "metadata": {},
   "outputs": [],
   "source": [
    "df = read.csv(\"SAU EEZ 851 v50-1.csv\")"
   ]
  },
  {
   "cell_type": "code",
   "execution_count": null,
   "id": "48ac12e4",
   "metadata": {},
   "outputs": [],
   "source": [
    "head(df)"
   ]
  },
  {
   "cell_type": "code",
   "execution_count": null,
   "id": "98515de9",
   "metadata": {},
   "outputs": [],
   "source": [
    "library(dplyr)\n",
    "df2 = df %>% group_by(year, gear_type) %>% summarize(tonnes=sum(tonnes), landed_value=sum(landed_value, na.rm=T))\n",
    "write.csv(df2, \"SAU EEZ 851 v50-1-gearyear.csv\", row.names=F)"
   ]
  },
  {
   "cell_type": "code",
   "execution_count": null,
   "id": "24a3cab8",
   "metadata": {},
   "outputs": [],
   "source": [
    "df = read.csv(\"SAU EEZ 851 v50-1-gearyear.csv\")"
   ]
  },
  {
   "cell_type": "code",
   "execution_count": null,
   "id": "99da3094",
   "metadata": {},
   "outputs": [],
   "source": [
    "library(ggplot2)"
   ]
  },
  {
   "cell_type": "code",
   "execution_count": null,
   "id": "e38b5ac9",
   "metadata": {},
   "outputs": [],
   "source": [
    "ggplot(df, aes(x=year, y=tonnes)) +\n",
    "  geom_col()"
   ]
  },
  {
   "cell_type": "code",
   "execution_count": null,
   "id": "c249e0bb",
   "metadata": {},
   "outputs": [],
   "source": [
    "ggplot(df, aes(x=year, y=tonnes, fill=gear_type)) +\n",
    "  geom_col()"
   ]
  },
  {
   "cell_type": "markdown",
   "id": "d75eb3e9",
   "metadata": {},
   "source": [
    "Question 1: What is the tonnage caught with a particular gear in a given year?"
   ]
  },
  {
   "cell_type": "code",
   "execution_count": null,
   "id": "1dd2e93f",
   "metadata": {
    "scrolled": true
   },
   "outputs": [],
   "source": [
    "df$tonnes[df$year == 2000]"
   ]
  },
  {
   "cell_type": "code",
   "execution_count": null,
   "id": "e94db676",
   "metadata": {},
   "outputs": [],
   "source": [
    "sum(df$tonnes[df$year == 2000])"
   ]
  },
  {
   "cell_type": "code",
   "execution_count": null,
   "id": "45031822",
   "metadata": {},
   "outputs": [],
   "source": [
    "subset(df, year == 2000 & gear_type == \"bottom trawl\")"
   ]
  },
  {
   "cell_type": "markdown",
   "id": "82acdc9c",
   "metadata": {},
   "source": [
    "Question 2: What is the average value for a given gear type?"
   ]
  },
  {
   "cell_type": "code",
   "execution_count": null,
   "id": "981c09ed",
   "metadata": {},
   "outputs": [],
   "source": [
    "ggplot(subset(df, gear_type == 'bottom trawl'), aes(x=tonnes)) +\n",
    "  geom_histogram()"
   ]
  },
  {
   "cell_type": "code",
   "execution_count": null,
   "id": "225e1b0c",
   "metadata": {},
   "outputs": [],
   "source": [
    "mean(df$tonnes[df$gear_type == 'bottom trawl'])"
   ]
  },
  {
   "cell_type": "code",
   "execution_count": null,
   "id": "e9d4ff5d",
   "metadata": {
    "scrolled": true
   },
   "outputs": [],
   "source": [
    "quantile(df$tonnes[df$gear_type == 'bottom trawl'])"
   ]
  },
  {
   "cell_type": "markdown",
   "id": "afc5ac14",
   "metadata": {},
   "source": [
    "Statistical model:\n",
    "$$tonnes \\sim \\mathcal{N}(MEAN, STDDEV)$$"
   ]
  },
  {
   "cell_type": "code",
   "execution_count": null,
   "id": "6a7292ad",
   "metadata": {
    "scrolled": true
   },
   "outputs": [],
   "source": [
    "sd(df$tonnes[df$gear_type == 'bottom trawl'])"
   ]
  },
  {
   "cell_type": "code",
   "execution_count": null,
   "id": "0dee5829",
   "metadata": {},
   "outputs": [],
   "source": [
    "faketonnes = rnorm(1000, 415197.568343814, 318485.223031723)"
   ]
  },
  {
   "cell_type": "code",
   "execution_count": null,
   "id": "7d85369e",
   "metadata": {
    "scrolled": true
   },
   "outputs": [],
   "source": [
    "ggplot(data.frame(tonnes=faketonnes), aes(x=tonnes)) +\n",
    "  geom_histogram()"
   ]
  },
  {
   "cell_type": "code",
   "execution_count": null,
   "id": "b8213008",
   "metadata": {},
   "outputs": [],
   "source": [
    "pdf1 = data.frame(type='real', tonnes=df$tonnes[df$gear_type == 'bottom trawl'])"
   ]
  },
  {
   "cell_type": "code",
   "execution_count": null,
   "id": "37471f8d",
   "metadata": {},
   "outputs": [],
   "source": [
    "pdf2 = data.frame(type='fake', tonnes=faketonnes)"
   ]
  },
  {
   "cell_type": "code",
   "execution_count": null,
   "id": "4b77b5f9",
   "metadata": {},
   "outputs": [],
   "source": [
    "pdf = rbind(pdf1, pdf2)"
   ]
  },
  {
   "cell_type": "code",
   "execution_count": null,
   "id": "c39fdc94",
   "metadata": {},
   "outputs": [],
   "source": [
    "ggplot(pdf, aes(x=tonnes, colour=type)) +\n",
    "  geom_density()"
   ]
  },
  {
   "cell_type": "markdown",
   "id": "95c6a5ed",
   "metadata": {},
   "source": [
    "Statistical model:\n",
    "$$log(tonnes) \\sim \\mathcal{N}(MEAN, STDDEV)$$"
   ]
  },
  {
   "cell_type": "code",
   "execution_count": null,
   "id": "9fd7d971",
   "metadata": {},
   "outputs": [],
   "source": [
    "mean(log(df$tonnes[df$gear_type == 'bottom trawl']))"
   ]
  },
  {
   "cell_type": "code",
   "execution_count": null,
   "id": "4d60b3f7",
   "metadata": {},
   "outputs": [],
   "source": [
    "sd(log(df$tonnes[df$gear_type == 'bottom trawl']))"
   ]
  },
  {
   "cell_type": "code",
   "execution_count": null,
   "id": "09678e6d",
   "metadata": {},
   "outputs": [],
   "source": [
    "faketonnes = rlnorm(1000, 12.661429700571, 0.761876733242941)"
   ]
  },
  {
   "cell_type": "code",
   "execution_count": null,
   "id": "605adc03",
   "metadata": {},
   "outputs": [],
   "source": [
    "pdf2 = data.frame(type='fake', tonnes=faketonnes)"
   ]
  },
  {
   "cell_type": "code",
   "execution_count": null,
   "id": "7ccc8043",
   "metadata": {},
   "outputs": [],
   "source": [
    "pdf = rbind(pdf1, pdf2)"
   ]
  },
  {
   "cell_type": "code",
   "execution_count": null,
   "id": "a0c6a0b2",
   "metadata": {},
   "outputs": [],
   "source": [
    "ggplot(pdf, aes(x=tonnes, colour=type)) +\n",
    "  geom_density()"
   ]
  },
  {
   "cell_type": "markdown",
   "id": "eaa31dbb",
   "metadata": {},
   "source": [
    "Question 3: Is bottom trawling declining?"
   ]
  },
  {
   "cell_type": "code",
   "execution_count": null,
   "id": "bdac93d7",
   "metadata": {},
   "outputs": [],
   "source": [
    "ggplot(subset(df, gear_type == 'bottom trawl'), aes(x=year, y=tonnes)) +\n",
    "  geom_col()"
   ]
  },
  {
   "cell_type": "markdown",
   "id": "0659e60c",
   "metadata": {},
   "source": [
    "Statistical model:\n",
    "$$tonnes \\sim \\mathcal{N}(INTERCEPT + SLOPE \\cdot year, STDDEV)$$"
   ]
  },
  {
   "cell_type": "code",
   "execution_count": null,
   "id": "2ac238c0",
   "metadata": {},
   "outputs": [],
   "source": [
    "lm(tonnes ~ year, subset(df, gear_type == 'bottom trawl'))"
   ]
  },
  {
   "cell_type": "code",
   "execution_count": null,
   "id": "de029bb8",
   "metadata": {},
   "outputs": [],
   "source": [
    "summary(lm(tonnes ~ year, subset(df, gear_type == 'bottom trawl')))"
   ]
  },
  {
   "cell_type": "code",
   "execution_count": null,
   "id": "12a86d2a",
   "metadata": {},
   "outputs": [],
   "source": [
    "ggplot(subset(df, gear_type == 'bottom trawl'), aes(x=year, y=tonnes)) +\n",
    "  geom_col() + geom_abline(intercept=21119880, slope=-10433)"
   ]
  },
  {
   "cell_type": "markdown",
   "id": "470859b1",
   "metadata": {},
   "source": [
    "Statistical model:\n",
    "$$log(tonnes) \\sim \\mathcal{N}(INTERCEPT + SLOPE \\cdot year, STDDEV)$$"
   ]
  },
  {
   "cell_type": "code",
   "execution_count": null,
   "id": "fbfbc750",
   "metadata": {},
   "outputs": [],
   "source": [
    "summary(lm(log(tonnes) ~ year, subset(df, gear_type == 'bottom trawl')))"
   ]
  },
  {
   "cell_type": "code",
   "execution_count": null,
   "id": "274d2de1",
   "metadata": {},
   "outputs": [],
   "source": [
    "df$predicted = exp(74.211344 - 0.031015*df$year)"
   ]
  },
  {
   "cell_type": "code",
   "execution_count": null,
   "id": "505bae91",
   "metadata": {},
   "outputs": [],
   "source": [
    "ggplot(subset(df, gear_type == 'bottom trawl'), aes(x=year, y=tonnes)) +\n",
    "  geom_col() + geom_line(aes(y=predicted))"
   ]
  }
 ],
 "metadata": {
  "kernelspec": {
   "display_name": "R",
   "language": "R",
   "name": "ir"
  },
  "language_info": {
   "codemirror_mode": "r",
   "file_extension": ".r",
   "mimetype": "text/x-r-source",
   "name": "R",
   "pygments_lexer": "r",
   "version": "4.1.1"
  }
 },
 "nbformat": 4,
 "nbformat_minor": 5
}
